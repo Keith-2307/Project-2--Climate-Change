{
 "cells": [
  {
   "cell_type": "code",
   "execution_count": 4,
   "id": "bd82cc69-3f2c-4343-985e-5fb2d8096488",
   "metadata": {},
   "outputs": [
    {
     "ename": "ImportError",
     "evalue": "cannot import name 'BaseOffset' from 'pandas._libs.tslibs' (C:\\Users\\keith\\anaconda3\\envs\\pyvizenv\\lib\\site-packages\\pandas\\_libs\\tslibs\\__init__.py)",
     "output_type": "error",
     "traceback": [
      "\u001b[1;31m---------------------------------------------------------------------------\u001b[0m",
      "\u001b[1;31mImportError\u001b[0m                               Traceback (most recent call last)",
      "\u001b[1;32m~\\AppData\\Local\\Temp/ipykernel_16844/3381603942.py\u001b[0m in \u001b[0;36m<module>\u001b[1;34m\u001b[0m\n\u001b[0;32m      1\u001b[0m \u001b[1;31m#imports\u001b[0m\u001b[1;33m\u001b[0m\u001b[1;33m\u001b[0m\u001b[1;33m\u001b[0m\u001b[0m\n\u001b[1;32m----> 2\u001b[1;33m \u001b[1;32mimport\u001b[0m \u001b[0mpandas\u001b[0m \u001b[1;32mas\u001b[0m \u001b[0mpd\u001b[0m\u001b[1;33m\u001b[0m\u001b[1;33m\u001b[0m\u001b[0m\n\u001b[0m\u001b[0;32m      3\u001b[0m \u001b[1;32mimport\u001b[0m \u001b[0mmplfinance\u001b[0m \u001b[1;32mas\u001b[0m \u001b[0mmpf\u001b[0m\u001b[1;33m\u001b[0m\u001b[1;33m\u001b[0m\u001b[0m\n\u001b[0;32m      4\u001b[0m \u001b[1;32mimport\u001b[0m \u001b[0mnumpy\u001b[0m \u001b[1;32mas\u001b[0m \u001b[0mnp\u001b[0m\u001b[1;33m\u001b[0m\u001b[1;33m\u001b[0m\u001b[0m\n\u001b[0;32m      5\u001b[0m \u001b[1;32mfrom\u001b[0m \u001b[0mpathlib\u001b[0m \u001b[1;32mimport\u001b[0m \u001b[0mPath\u001b[0m\u001b[1;33m\u001b[0m\u001b[1;33m\u001b[0m\u001b[0m\n",
      "\u001b[1;32m~\\anaconda3\\envs\\pyvizenv\\lib\\site-packages\\pandas\\__init__.py\u001b[0m in \u001b[0;36m<module>\u001b[1;34m\u001b[0m\n\u001b[0;32m     40\u001b[0m \u001b[1;32mimport\u001b[0m \u001b[0mpandas\u001b[0m\u001b[1;33m.\u001b[0m\u001b[0mcore\u001b[0m\u001b[1;33m.\u001b[0m\u001b[0mconfig_init\u001b[0m\u001b[1;33m\u001b[0m\u001b[1;33m\u001b[0m\u001b[0m\n\u001b[0;32m     41\u001b[0m \u001b[1;33m\u001b[0m\u001b[0m\n\u001b[1;32m---> 42\u001b[1;33m \u001b[1;32mfrom\u001b[0m \u001b[0mpandas\u001b[0m\u001b[1;33m.\u001b[0m\u001b[0mcore\u001b[0m\u001b[1;33m.\u001b[0m\u001b[0mapi\u001b[0m \u001b[1;32mimport\u001b[0m \u001b[1;33m*\u001b[0m\u001b[1;33m\u001b[0m\u001b[1;33m\u001b[0m\u001b[0m\n\u001b[0m\u001b[0;32m     43\u001b[0m \u001b[1;32mfrom\u001b[0m \u001b[0mpandas\u001b[0m\u001b[1;33m.\u001b[0m\u001b[0mcore\u001b[0m\u001b[1;33m.\u001b[0m\u001b[0msparse\u001b[0m\u001b[1;33m.\u001b[0m\u001b[0mapi\u001b[0m \u001b[1;32mimport\u001b[0m \u001b[1;33m*\u001b[0m\u001b[1;33m\u001b[0m\u001b[1;33m\u001b[0m\u001b[0m\n\u001b[0;32m     44\u001b[0m \u001b[1;32mfrom\u001b[0m \u001b[0mpandas\u001b[0m\u001b[1;33m.\u001b[0m\u001b[0mtseries\u001b[0m\u001b[1;33m.\u001b[0m\u001b[0mapi\u001b[0m \u001b[1;32mimport\u001b[0m \u001b[1;33m*\u001b[0m\u001b[1;33m\u001b[0m\u001b[1;33m\u001b[0m\u001b[0m\n",
      "\u001b[1;32m~\\anaconda3\\envs\\pyvizenv\\lib\\site-packages\\pandas\\core\\api.py\u001b[0m in \u001b[0;36m<module>\u001b[1;34m\u001b[0m\n\u001b[0;32m      5\u001b[0m \u001b[1;32mimport\u001b[0m \u001b[0mnumpy\u001b[0m \u001b[1;32mas\u001b[0m \u001b[0mnp\u001b[0m\u001b[1;33m\u001b[0m\u001b[1;33m\u001b[0m\u001b[0m\n\u001b[0;32m      6\u001b[0m \u001b[1;33m\u001b[0m\u001b[0m\n\u001b[1;32m----> 7\u001b[1;33m from pandas.core.arrays.integer import (\n\u001b[0m\u001b[0;32m      8\u001b[0m     \u001b[0mInt8Dtype\u001b[0m\u001b[1;33m,\u001b[0m\u001b[1;33m\u001b[0m\u001b[1;33m\u001b[0m\u001b[0m\n\u001b[0;32m      9\u001b[0m     \u001b[0mInt16Dtype\u001b[0m\u001b[1;33m,\u001b[0m\u001b[1;33m\u001b[0m\u001b[1;33m\u001b[0m\u001b[0m\n",
      "\u001b[1;32m~\\anaconda3\\envs\\pyvizenv\\lib\\site-packages\\pandas\\core\\arrays\\__init__.py\u001b[0m in \u001b[0;36m<module>\u001b[1;34m\u001b[0m\n\u001b[0;32m      1\u001b[0m \u001b[1;32mfrom\u001b[0m \u001b[1;33m.\u001b[0m\u001b[0marray_\u001b[0m \u001b[1;32mimport\u001b[0m \u001b[0marray\u001b[0m  \u001b[1;31m# noqa\u001b[0m\u001b[1;33m\u001b[0m\u001b[1;33m\u001b[0m\u001b[0m\n\u001b[1;32m----> 2\u001b[1;33m from .base import (ExtensionArray,    # noqa\n\u001b[0m\u001b[0;32m      3\u001b[0m                    \u001b[0mExtensionOpsMixin\u001b[0m\u001b[1;33m,\u001b[0m\u001b[1;33m\u001b[0m\u001b[1;33m\u001b[0m\u001b[0m\n\u001b[0;32m      4\u001b[0m                    ExtensionScalarOpsMixin)\n\u001b[0;32m      5\u001b[0m \u001b[1;32mfrom\u001b[0m \u001b[1;33m.\u001b[0m\u001b[0mcategorical\u001b[0m \u001b[1;32mimport\u001b[0m \u001b[0mCategorical\u001b[0m  \u001b[1;31m# noqa\u001b[0m\u001b[1;33m\u001b[0m\u001b[1;33m\u001b[0m\u001b[0m\n",
      "\u001b[1;32m~\\anaconda3\\envs\\pyvizenv\\lib\\site-packages\\pandas\\core\\arrays\\base.py\u001b[0m in \u001b[0;36m<module>\u001b[1;34m\u001b[0m\n\u001b[0;32m     19\u001b[0m \u001b[1;32mfrom\u001b[0m \u001b[0mpandas\u001b[0m\u001b[1;33m.\u001b[0m\u001b[0mcore\u001b[0m\u001b[1;33m.\u001b[0m\u001b[0mdtypes\u001b[0m\u001b[1;33m.\u001b[0m\u001b[0mmissing\u001b[0m \u001b[1;32mimport\u001b[0m \u001b[0misna\u001b[0m\u001b[1;33m\u001b[0m\u001b[1;33m\u001b[0m\u001b[0m\n\u001b[0;32m     20\u001b[0m \u001b[1;33m\u001b[0m\u001b[0m\n\u001b[1;32m---> 21\u001b[1;33m \u001b[1;32mfrom\u001b[0m \u001b[0mpandas\u001b[0m\u001b[1;33m.\u001b[0m\u001b[0mcore\u001b[0m \u001b[1;32mimport\u001b[0m \u001b[0mops\u001b[0m\u001b[1;33m\u001b[0m\u001b[1;33m\u001b[0m\u001b[0m\n\u001b[0m\u001b[0;32m     22\u001b[0m \u001b[1;33m\u001b[0m\u001b[0m\n\u001b[0;32m     23\u001b[0m \u001b[0m_not_implemented_message\u001b[0m \u001b[1;33m=\u001b[0m \u001b[1;34m\"{} does not implement {}.\"\u001b[0m\u001b[1;33m\u001b[0m\u001b[1;33m\u001b[0m\u001b[0m\n",
      "\u001b[1;32m~\\anaconda3\\envs\\pyvizenv\\lib\\site-packages\\pandas\\core\\ops\\__init__.py\u001b[0m in \u001b[0;36m<module>\u001b[1;34m\u001b[0m\n\u001b[0;32m     30\u001b[0m     \u001b[0mroperator\u001b[0m\u001b[1;33m,\u001b[0m\u001b[1;33m\u001b[0m\u001b[1;33m\u001b[0m\u001b[0m\n\u001b[0;32m     31\u001b[0m )\n\u001b[1;32m---> 32\u001b[1;33m from pandas.core.ops.array_ops import (  # noqa:F401\n\u001b[0m\u001b[0;32m     33\u001b[0m     \u001b[0marithmetic_op\u001b[0m\u001b[1;33m,\u001b[0m\u001b[1;33m\u001b[0m\u001b[1;33m\u001b[0m\u001b[0m\n\u001b[0;32m     34\u001b[0m     \u001b[0mcomp_method_OBJECT_ARRAY\u001b[0m\u001b[1;33m,\u001b[0m\u001b[1;33m\u001b[0m\u001b[1;33m\u001b[0m\u001b[0m\n",
      "\u001b[1;32m~\\anaconda3\\envs\\pyvizenv\\lib\\site-packages\\pandas\\core\\ops\\array_ops.py\u001b[0m in \u001b[0;36m<module>\u001b[1;34m\u001b[0m\n\u001b[0;32m     17\u001b[0m     \u001b[0mops\u001b[0m \u001b[1;32mas\u001b[0m \u001b[0mlibops\u001b[0m\u001b[1;33m,\u001b[0m\u001b[1;33m\u001b[0m\u001b[1;33m\u001b[0m\u001b[0m\n\u001b[0;32m     18\u001b[0m )\n\u001b[1;32m---> 19\u001b[1;33m \u001b[1;32mfrom\u001b[0m \u001b[0mpandas\u001b[0m\u001b[1;33m.\u001b[0m\u001b[0m_libs\u001b[0m\u001b[1;33m.\u001b[0m\u001b[0mtslibs\u001b[0m \u001b[1;32mimport\u001b[0m \u001b[0mBaseOffset\u001b[0m\u001b[1;33m\u001b[0m\u001b[1;33m\u001b[0m\u001b[0m\n\u001b[0m\u001b[0;32m     20\u001b[0m from pandas._typing import (\n\u001b[0;32m     21\u001b[0m     \u001b[0mArrayLike\u001b[0m\u001b[1;33m,\u001b[0m\u001b[1;33m\u001b[0m\u001b[1;33m\u001b[0m\u001b[0m\n",
      "\u001b[1;31mImportError\u001b[0m: cannot import name 'BaseOffset' from 'pandas._libs.tslibs' (C:\\Users\\keith\\anaconda3\\envs\\pyvizenv\\lib\\site-packages\\pandas\\_libs\\tslibs\\__init__.py)"
     ]
    }
   ],
   "source": [
    "#imports\n",
    "import pandas as pd\n",
    "import mplfinance as mpf\n",
    "import numpy as np\n",
    "from pathlib import Path\n",
    "import plotly.express as px\n",
    "import hvplot.pandas\n",
    "import requests\n",
    "import matplotlib.pyplot as plt\n",
    "%matplotlib inline\n",
    "from statsmodels.tsa.arima_model import ARIMA\n",
    "import warnings\n",
    "warnings.simplefilter(action='ignore', category=Warning)\n"
   ]
  },
  {
   "cell_type": "code",
   "execution_count": null,
   "id": "70ed438b-5e85-4583-919f-742930e24800",
   "metadata": {},
   "outputs": [],
   "source": [
    "# CSV file and Dataframe:\n",
    "file_path3=Path('Resources/FAN.csv')\n",
    "wind_stock=pd.read_csv(file_path3)\n",
    "wind_stock.head()\n"
   ]
  },
  {
   "cell_type": "code",
   "execution_count": null,
   "id": "69016fc7-6942-4cbb-9dcc-3073a0ae270b",
   "metadata": {},
   "outputs": [],
   "source": [
    "wind_stock['Date'] = pd.to_datetime(wind_stock['Date'], dayfirst = True)\n",
    "wind_stock.set_index(wind_stock['Date'], inplace=True)\n",
    "wind_stock.drop(columns=['Date'],inplace=True)\n",
    "wind_stock.head()"
   ]
  },
  {
   "cell_type": "code",
   "execution_count": null,
   "id": "4ca2c8e9-e5f1-4808-ad68-a61500bffbc5",
   "metadata": {},
   "outputs": [],
   "source": [
    "mpf.plot(wind_stock['2021-01':'2021-09'],figratio=(20,12),\n",
    "         type = 'candle',\n",
    "         title = 'Wind Stock Jan 2021 - Sept 2021',\n",
    "         mav=(20),volume=True,\n",
    "         tight_layout=True,\n",
    "        style='blueskies')"
   ]
  },
  {
   "cell_type": "code",
   "execution_count": null,
   "id": "d7c6c2c2-be56-484c-8828-64a388c5e102",
   "metadata": {},
   "outputs": [],
   "source": [
    "# CSV file and Dataframe:\n",
    "file_path4=Path('Resources/ICLN.csv')\n",
    "clean_energy=pd.read_csv(file_path4)\n",
    "clean_energy.head()\n"
   ]
  },
  {
   "cell_type": "code",
   "execution_count": null,
   "id": "564ecdfd-b950-4c32-aba9-feb8250b895b",
   "metadata": {},
   "outputs": [],
   "source": [
    "clean_energy['Date'] = pd.to_datetime(clean_energy['Date'], dayfirst = True)\n",
    "clean_energy.set_index(clean_energy['Date'], inplace=True)\n",
    "clean_energy.drop(columns=['Date'],inplace=True)\n",
    "clean_energy.head()"
   ]
  },
  {
   "cell_type": "code",
   "execution_count": null,
   "id": "648d3634-3090-4f5e-a08a-eceaa1a534e3",
   "metadata": {},
   "outputs": [],
   "source": [
    "mpf.plot(clean_energy['2021-01':'2021-07'],figratio=(20,12),\n",
    "         type = 'candle',\n",
    "         title = 'Clean Energy Stock: Jan 2021 - Sept 2021',\n",
    "         mav=(20),volume=True,\n",
    "         tight_layout=True,\n",
    "        style='starsandstripes')"
   ]
  },
  {
   "cell_type": "markdown",
   "id": "b9b266ae-6bec-4c79-a575-70d6c2455f0b",
   "metadata": {},
   "source": [
    "Despite the effects of global warming, the above plot indicates a drop in the value of Clean Energy Stock, which still indicates a reluctance in the population to invest in sustainable energy, investment funds and thus doing our parts to reduce global warming."
   ]
  },
  {
   "cell_type": "code",
   "execution_count": null,
   "id": "94ce33d7-dffd-47b2-aded-fa2bad362558",
   "metadata": {},
   "outputs": [],
   "source": [
    "# CSV file and Dataframe:\n",
    "file_path5=Path('Resources/SU.TO.csv')\n",
    "suncore=pd.read_csv(file_path5)\n",
    "suncore.head()\n"
   ]
  },
  {
   "cell_type": "code",
   "execution_count": null,
   "id": "eb810185-f71e-4e77-9c4b-9cbccecbcdc8",
   "metadata": {},
   "outputs": [],
   "source": [
    "#Cleaning the Data\n",
    "suncore['Date'] = pd.to_datetime(suncore['Date'], dayfirst = True)\n",
    "suncore.set_index(suncore['Date'], inplace=True)\n",
    "suncore.drop(columns=['Date'],inplace=True)\n",
    "suncore.head()"
   ]
  },
  {
   "cell_type": "code",
   "execution_count": null,
   "id": "e8dde9eb-fff4-431f-b54d-e34b6097a499",
   "metadata": {},
   "outputs": [],
   "source": [
    "#Plot Suncore daily returns with moving average\n",
    "mpf.plot(suncore['2021-01':'2021-07'],figratio=(20,12),\n",
    "         type = 'candle',\n",
    "         title = 'Suncore: Jan 2021 - Sept 2021',\n",
    "         mav=(20),volume=True,\n",
    "         tight_layout=True,\n",
    "        style='charles')"
   ]
  },
  {
   "cell_type": "code",
   "execution_count": null,
   "id": "4c4898aa-2a84-4f4e-9453-4b9c7e462b68",
   "metadata": {},
   "outputs": [],
   "source": [
    "# CSV file and Dataframe:\n",
    "file_path6=Path('Resources/TSLA.csv')\n",
    "tesla=pd.read_csv(file_path6)\n",
    "tesla.head()\n"
   ]
  },
  {
   "cell_type": "code",
   "execution_count": null,
   "id": "688f1949-4bf7-42c5-b4c2-3f5107fba7de",
   "metadata": {},
   "outputs": [],
   "source": [
    "#Cleaning the data\n",
    "tesla['Date'] = pd.to_datetime(tesla['Date'], dayfirst = True)\n",
    "tesla.set_index(tesla['Date'], inplace=True)\n",
    "tesla.drop(columns=['Date'],inplace=True)\n",
    "tesla.head()"
   ]
  },
  {
   "cell_type": "code",
   "execution_count": null,
   "id": "53ff3592-37bd-4880-9461-4486a0daa25f",
   "metadata": {},
   "outputs": [],
   "source": [
    "# Plot daily returns with moving average\n",
    "mpf.plot(tesla['2021-01':'2021-07'],figratio=(20,12),\n",
    "         type = 'candle',\n",
    "         title = 'Tesla: Jan 2021 - Sept 2021',\n",
    "         mav=(20),volume=True,\n",
    "         tight_layout=True,\n",
    "        style='mike')"
   ]
  },
  {
   "cell_type": "code",
   "execution_count": null,
   "id": "3d87de9c-f813-4d51-ab8d-b591ea43cc91",
   "metadata": {},
   "outputs": [],
   "source": [
    "# CSV file and Dataframe:\n",
    "file_path7=Path('Resources/XOM.csv')\n",
    "exxon=pd.read_csv(file_path7)\n",
    "exxon.head()"
   ]
  },
  {
   "cell_type": "code",
   "execution_count": null,
   "id": "875c25b1-8b1c-4bda-994f-e87f1fdce94c",
   "metadata": {},
   "outputs": [],
   "source": [
    "#Cleaning the data \n",
    "exxon['Date'] = pd.to_datetime(exxon['Date'], dayfirst = True)\n",
    "exxon.set_index(exxon['Date'], inplace=True)\n",
    "exxon.drop(columns=['Date'],inplace=True)\n",
    "exxon.head()"
   ]
  },
  {
   "cell_type": "code",
   "execution_count": null,
   "id": "7f0359c6-01a1-4774-ba07-ed82735bc77c",
   "metadata": {},
   "outputs": [],
   "source": [
    "# First we set the kwargs that we will use for all of these examples:\n",
    "kwargs = dict(type='candle',mav=(2,4,6),volume=True,figratio=(11,8),figscale=0.85)"
   ]
  },
  {
   "cell_type": "code",
   "execution_count": null,
   "id": "6ce68999-74b3-4ba2-be88-5bcdd69ea524",
   "metadata": {},
   "outputs": [],
   "source": [
    "# # Plot daily returns with moving average\n",
    "\n",
    "mpf.plot(exxon['2021-01':'2021-07'],figratio=(20,12),\n",
    "         type = 'candle',\n",
    "         title = 'Exxon Price Jan 2021 - Sept 2021',\n",
    "         mav=(20),volume=True,\n",
    "         tight_layout=True,\n",
    "        style='yahoo')"
   ]
  },
  {
   "cell_type": "markdown",
   "id": "bb3ff39e-c5e7-4bc1-9472-833168842220",
   "metadata": {},
   "source": [
    "Dispite the effects of global warming, the above chart shows no significant reduction in the investing of fossil fuels."
   ]
  },
  {
   "cell_type": "code",
   "execution_count": null,
   "id": "fef84ad3-66cc-40f0-9755-c445b3737ec1",
   "metadata": {},
   "outputs": [],
   "source": [
    "#Prep New wind stock dataframe\n",
    "wind_stock = wind_stock.rename(columns={'Close':'FAN'})\n",
    "wind_stock.drop(columns=['Open','High','Low','Adj Close','Volume'],inplace=True)\n",
    "wind_stock.head()"
   ]
  },
  {
   "cell_type": "code",
   "execution_count": null,
   "id": "3b7585ff-f6bf-4fba-ba7d-90e6c9381fe1",
   "metadata": {},
   "outputs": [],
   "source": [
    "#Prep New Clean stock dataframe\n",
    "clean_energy = clean_energy.rename(columns={'Close':'ICLN'})\n",
    "clean_energy.drop(columns=['Open','High','Low','Adj Close','Volume'],inplace=True)\n",
    "clean_energy.head()"
   ]
  },
  {
   "cell_type": "code",
   "execution_count": null,
   "id": "8d2cc377-6eed-4a6d-819e-1ef0959c3d2d",
   "metadata": {},
   "outputs": [],
   "source": [
    "#Prep New Suncore Stock dataframe\n",
    "suncore = suncore.rename(columns={'Close':'SU.TO'})\n",
    "suncore.drop(columns=['Open','High','Low','Adj Close','Volume'],inplace=True)\n",
    "suncore.head()"
   ]
  },
  {
   "cell_type": "code",
   "execution_count": null,
   "id": "e4a66a53-45fe-4b4f-a803-e3a135ff39c9",
   "metadata": {},
   "outputs": [],
   "source": [
    "#Prep New Tesla stock dataframe\n",
    "tesla = tesla.rename(columns={'Close':'TSLA'})\n",
    "tesla.drop(columns=['Open','High','Low','Adj Close','Volume'],inplace=True)\n",
    "tesla.head()"
   ]
  },
  {
   "cell_type": "code",
   "execution_count": null,
   "id": "4df21082-4ae3-42d9-afef-5591eb1fbf31",
   "metadata": {},
   "outputs": [],
   "source": [
    "#Prep New Exxon dataframe\n",
    "exxon = exxon.rename(columns={'Close':'XOM'})\n",
    "exxon.drop(columns=['Open','High','Low','Adj Close','Volume'],inplace=True)\n",
    "exxon.head()"
   ]
  },
  {
   "cell_type": "code",
   "execution_count": null,
   "id": "18b61c9f-81e8-4ac8-b498-94dc6b050321",
   "metadata": {},
   "outputs": [],
   "source": [
    "# Join the sustainable stocks with the Exxon Mobile returns.\n",
    "Combined_Stocks_df = pd.concat([wind_stock,clean_energy,suncore,tesla,exxon], axis='columns', join='inner')\n",
    "Combined_Stocks_df.head()\n"
   ]
  },
  {
   "cell_type": "code",
   "execution_count": null,
   "id": "5f0a4519-f558-4f45-b2cd-cb811cfaa3b5",
   "metadata": {},
   "outputs": [],
   "source": [
    "# Plot daily returns \n",
    "Combined_Stocks_df.plot(title='Daily Returns', figsize=(20,10))"
   ]
  },
  {
   "cell_type": "markdown",
   "id": "0117796d-9400-4db1-82ae-30b1ab4d12a3",
   "metadata": {},
   "source": [
    "The above plots indicates our investment strategies, despite the global warnings:\n",
    "\n",
    "Despite all the issues which combats the planet, we investigated human behavior on a financial scale, more specifically their investment strategies and confidence in the reports and warnings being peppered out. We thought it necessary to portray the confidence in the stock market with regards to our willingness to change and save our planet, as a result:\n",
    "\n",
    "The daily returns plots here of the much-recommended N. E. Ts. (Negative Emission Technologies) compared with a fossil fuel giant shows that we as a human race, pardon the generalization, still maintain confidence in the use of fossil fuels as an energy source, except for Tesla which we can all place at the feet of a need for profit rather than a need to invest in negative energy. The Exxon stocks continue to outperform the clean energy stocks in 2021 and that have the experts believing that the catastrophes impacting the world thus far has done little to curb our mindset.\n"
   ]
  }
 ],
 "metadata": {
  "kernelspec": {
   "display_name": "Python [conda env:pyvizenv] *",
   "language": "python",
   "name": "conda-env-pyvizenv-py"
  },
  "language_info": {
   "codemirror_mode": {
    "name": "ipython",
    "version": 3
   },
   "file_extension": ".py",
   "mimetype": "text/x-python",
   "name": "python",
   "nbconvert_exporter": "python",
   "pygments_lexer": "ipython3",
   "version": "3.7.11"
  }
 },
 "nbformat": 4,
 "nbformat_minor": 5
}
