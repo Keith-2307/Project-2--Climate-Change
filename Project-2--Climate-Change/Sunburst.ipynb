{
 "cells": [
  {
   "cell_type": "code",
   "execution_count": 1,
   "id": "50ba9fd6-5c26-4b08-abbd-fb656d342ea3",
   "metadata": {},
   "outputs": [
    {
     "name": "stderr",
     "output_type": "stream",
     "text": [
      "\n",
      "Bad key savefig.frameon in file C:\\Users\\keith\\anaconda3\\envs\\pyvizenv\\lib\\site-packages\\matplotlib\\mpl-data\\stylelib\\_classic_test.mplstyle, line 421 ('savefig.frameon : True')\n",
      "You probably need to get an updated matplotlibrc file from\n",
      "https://github.com/matplotlib/matplotlib/blob/v3.4.3/matplotlibrc.template\n",
      "or from the matplotlib source distribution\n",
      "\n",
      "Bad key verbose.level in file C:\\Users\\keith\\anaconda3\\envs\\pyvizenv\\lib\\site-packages\\matplotlib\\mpl-data\\stylelib\\_classic_test.mplstyle, line 472 ('verbose.level  : silent      # one of silent, helpful, debug, debug-annoying')\n",
      "You probably need to get an updated matplotlibrc file from\n",
      "https://github.com/matplotlib/matplotlib/blob/v3.4.3/matplotlibrc.template\n",
      "or from the matplotlib source distribution\n",
      "\n",
      "Bad key verbose.fileo in file C:\\Users\\keith\\anaconda3\\envs\\pyvizenv\\lib\\site-packages\\matplotlib\\mpl-data\\stylelib\\_classic_test.mplstyle, line 473 ('verbose.fileo  : sys.stdout  # a log filename, sys.stdout or sys.stderr')\n",
      "You probably need to get an updated matplotlibrc file from\n",
      "https://github.com/matplotlib/matplotlib/blob/v3.4.3/matplotlibrc.template\n",
      "or from the matplotlib source distribution\n",
      "In C:\\Users\\keith\\anaconda3\\envs\\pyvizenv\\lib\\site-packages\\matplotlib\\mpl-data\\stylelib\\_classic_test.mplstyle: \n",
      "The text.latex.preview rcparam was deprecated in Matplotlib 3.3 and will be removed two minor releases later.\n",
      "In C:\\Users\\keith\\anaconda3\\envs\\pyvizenv\\lib\\site-packages\\matplotlib\\mpl-data\\stylelib\\_classic_test.mplstyle: \n",
      "The mathtext.fallback_to_cm rcparam was deprecated in Matplotlib 3.3 and will be removed two minor releases later.\n",
      "In C:\\Users\\keith\\anaconda3\\envs\\pyvizenv\\lib\\site-packages\\matplotlib\\mpl-data\\stylelib\\_classic_test.mplstyle: Support for setting the 'mathtext.fallback_to_cm' rcParam is deprecated since 3.3 and will be removed two minor releases later; use 'mathtext.fallback : 'cm' instead.\n",
      "In C:\\Users\\keith\\anaconda3\\envs\\pyvizenv\\lib\\site-packages\\matplotlib\\mpl-data\\stylelib\\_classic_test.mplstyle: \n",
      "The validate_bool_maybe_none function was deprecated in Matplotlib 3.3 and will be removed two minor releases later.\n",
      "In C:\\Users\\keith\\anaconda3\\envs\\pyvizenv\\lib\\site-packages\\matplotlib\\mpl-data\\stylelib\\_classic_test.mplstyle: \n",
      "The savefig.jpeg_quality rcparam was deprecated in Matplotlib 3.3 and will be removed two minor releases later.\n",
      "In C:\\Users\\keith\\anaconda3\\envs\\pyvizenv\\lib\\site-packages\\matplotlib\\mpl-data\\stylelib\\_classic_test.mplstyle: \n",
      "The keymap.all_axes rcparam was deprecated in Matplotlib 3.3 and will be removed two minor releases later.\n",
      "In C:\\Users\\keith\\anaconda3\\envs\\pyvizenv\\lib\\site-packages\\matplotlib\\mpl-data\\stylelib\\_classic_test.mplstyle: \n",
      "The animation.avconv_path rcparam was deprecated in Matplotlib 3.3 and will be removed two minor releases later.\n",
      "In C:\\Users\\keith\\anaconda3\\envs\\pyvizenv\\lib\\site-packages\\matplotlib\\mpl-data\\stylelib\\_classic_test.mplstyle: \n",
      "The animation.avconv_args rcparam was deprecated in Matplotlib 3.3 and will be removed two minor releases later.\n"
     ]
    },
    {
     "ename": "ImportError",
     "evalue": "Plotly express requires pandas to be installed.",
     "output_type": "error",
     "traceback": [
      "\u001b[1;31m---------------------------------------------------------------------------\u001b[0m",
      "\u001b[1;31mImportError\u001b[0m                               Traceback (most recent call last)",
      "\u001b[1;32m~\\AppData\\Local\\Temp/ipykernel_8412/1947913629.py\u001b[0m in \u001b[0;36m<module>\u001b[1;34m\u001b[0m\n\u001b[0;32m      5\u001b[0m \u001b[1;32mimport\u001b[0m \u001b[0mplotly\u001b[0m\u001b[1;33m.\u001b[0m\u001b[0moffline\u001b[0m \u001b[1;32mas\u001b[0m \u001b[0mpyo\u001b[0m\u001b[1;33m\u001b[0m\u001b[1;33m\u001b[0m\u001b[0m\n\u001b[0;32m      6\u001b[0m \u001b[1;32mfrom\u001b[0m \u001b[0mplotly\u001b[0m\u001b[1;33m.\u001b[0m\u001b[0msubplots\u001b[0m \u001b[1;32mimport\u001b[0m \u001b[0mmake_subplots\u001b[0m\u001b[1;33m\u001b[0m\u001b[1;33m\u001b[0m\u001b[0m\n\u001b[1;32m----> 7\u001b[1;33m \u001b[1;32mimport\u001b[0m \u001b[0mplotly\u001b[0m\u001b[1;33m.\u001b[0m\u001b[0mexpress\u001b[0m \u001b[1;32mas\u001b[0m \u001b[0mpx\u001b[0m\u001b[1;33m\u001b[0m\u001b[1;33m\u001b[0m\u001b[0m\n\u001b[0m\u001b[0;32m      8\u001b[0m \u001b[1;32mimport\u001b[0m \u001b[0mplotly\u001b[0m\u001b[1;33m.\u001b[0m\u001b[0mio\u001b[0m \u001b[1;32mas\u001b[0m \u001b[0mpio\u001b[0m\u001b[1;33m\u001b[0m\u001b[1;33m\u001b[0m\u001b[0m\n\u001b[0;32m      9\u001b[0m \u001b[1;32mimport\u001b[0m \u001b[0mchart_studio\u001b[0m\u001b[1;33m\u001b[0m\u001b[1;33m\u001b[0m\u001b[0m\n",
      "\u001b[1;32m~\\anaconda3\\envs\\pyvizenv\\lib\\site-packages\\plotly\\express\\__init__.py\u001b[0m in \u001b[0;36m<module>\u001b[1;34m\u001b[0m\n\u001b[0;32m     10\u001b[0m     raise ImportError(\n\u001b[0;32m     11\u001b[0m         \"\"\"\\\n\u001b[1;32m---> 12\u001b[1;33m Plotly express requires pandas to be installed.\"\"\"\n\u001b[0m\u001b[0;32m     13\u001b[0m     )\n\u001b[0;32m     14\u001b[0m \u001b[1;33m\u001b[0m\u001b[0m\n",
      "\u001b[1;31mImportError\u001b[0m: Plotly express requires pandas to be installed."
     ]
    }
   ],
   "source": [
    "#imports\n",
    "import matplotlib.pyplot as plt\n",
    "from plotly.offline import iplot\n",
    "import plotly.graph_objects as go\n",
    "import plotly.offline as pyo\n",
    "from plotly.subplots import make_subplots\n",
    "import plotly.express as px\n",
    "import plotly.io as pio\n",
    "import chart_studio\n",
    "import chart_studio.plotly as py\n",
    "import pandas as pd\n",
    "import numpy as np\n",
    "from pathlib import Path\n"
   ]
  },
  {
   "cell_type": "code",
   "execution_count": null,
   "id": "c3070a9b-947c-4a29-900b-5ee23243e91d",
   "metadata": {},
   "outputs": [],
   "source": [
    "# Create the sunburst chart\n",
    "file_path = Path(\"Resources/Production_Emissions.csv\")\n",
    "# Create DataFrames\n",
    "df_Emission_Prod = pd.read_csv(file_path)\n",
    "df_Emission_Prod['CH4 Emissions intensity']=(df_Emission_Prod['CH4 Emissions intensity']-df_Emission_Prod['CH4 Emissions intensity'].min())/(df_Emission_Prod['CH4 Emissions intensity'].max() - df_Emission_Prod['CH4 Emissions intensity'].min())*100\n",
    "df_Emission_Prod.head()\n",
    "fig = px.sunburst(df_Emission_Prod,\n",
    "                  path=[\"Year\", \"Area\",\"Item\"],\n",
    "                  values='Production (Tonnes)',\n",
    "                  width=850, height=850,\n",
    "                  color_continuous_scale=\"Portland\",\n",
    "                  color='CH4 Emissions intensity',\n",
    "                  title=\"Increase in CH4 Emissions and Temperature by Region kg CH4eq/kg product\"\n",
    "                  )\n",
    "fig.show()"
   ]
  },
  {
   "cell_type": "markdown",
   "id": "f65daa90-3f81-4dde-b788-f3b1b4861703",
   "metadata": {},
   "source": [
    "There are currently approximately 1.3 to 1.5 billion cows grazing sleeping end chewing their curds at any given time on planet earth, and these 1300 pounds average weight for both a beef and dairy cow. These animals they eat a lot. Much like humans when they eat, gas builds up inside of their guts and must be expelled. Cows fart and burp a lot, the result is a large amount of methane being introduced into the atmosphere. In a 2006 UN Food and Agriculture organization report, it claims that the livestock sector most of which are cows, generates more greenhouse gas emissions as measured in CO2 equivalent 18% than transport. The average cow produces enough methane per year, to do the same greenhouse damage as four tons of carbon dioxide. So, this significantly contributes to global warming.\n",
    "\n",
    "To understand how cattle produce such high quantities of methane, we need to know that cows, sheep, goats, giraffes, and deer belong to a class of mammals called ruminants. Most ruminants have four stomachs two toed feet and store their food in the first Chamber of the stomach called the rumen before regurgitating it.\n",
    "This regurgitated food is called curd and the animals chew it again to help further break it down to make it easier to digest. Inside of the rumen, over 400 different kinds of microbes exist that also play a critical role in the digestion process. Several of these microbes create methane gas as a by-product. Due to the large number of cows on the planet, along with the large size per cow, they produce more methane gas than all other ruminants combined. This is bad because methane is 21 times more potent at trapping heat from the sun than carbon dioxide. Though it is less prevalent in the atmosphere than carbon dioxide it is by unit of the most destructive of the greenhouse gases. Since the turn of the 19th century methane gas emissions have increased by 150%. Methane gas like all other greenhouse gases, which includes water vapor acts as a blanket around our planet trapping heat.\n",
    "\n",
    "Livestock is the largest source of methane gas emissions worldwide, contributing over 28% of total emissions. Wetlands, leaks from oil refineries and drills also contributed methane gas to the atmosphere. In fact, unlike the ratios on a global scale in the United States, livestock is only the third largest contributor behind the mining and transportation of natural gas and rotting landfill waste.\n",
    "\n",
    "It is estimated through whichever orifice that each individual cow lets out between 30 and 50 gallons of methane day. With an estimated 1.3 to 1.5 billion castles in the world today this adds up fast. As the sunburst plot indicates, the large volume of methane being emitted in Australia and the Oceania regions which has a suitable climate to livestock grazing and ranching, including beef cattle, dairy cattle, domestic deer and most importantly, sheep. Sheep outnumber people in New Zealand by about 12 to 1. Methane gas emitted by cows and other livestock does have a significant impact on the amount of greenhouse gases in our atmosphere which are the main culprits behind climate change and global warming wildfires.\n"
   ]
  },
  {
   "cell_type": "code",
   "execution_count": null,
   "id": "cf558d47-b9be-426c-80ed-da112de40a15",
   "metadata": {},
   "outputs": [],
   "source": []
  }
 ],
 "metadata": {
  "kernelspec": {
   "display_name": "Python [conda env:pyvizenv] *",
   "language": "python",
   "name": "conda-env-pyvizenv-py"
  },
  "language_info": {
   "codemirror_mode": {
    "name": "ipython",
    "version": 3
   },
   "file_extension": ".py",
   "mimetype": "text/x-python",
   "name": "python",
   "nbconvert_exporter": "python",
   "pygments_lexer": "ipython3",
   "version": "3.7.11"
  }
 },
 "nbformat": 4,
 "nbformat_minor": 5
}
