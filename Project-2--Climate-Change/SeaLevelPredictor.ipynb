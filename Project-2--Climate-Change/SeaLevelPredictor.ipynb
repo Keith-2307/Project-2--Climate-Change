{
 "cells": [
  {
   "cell_type": "code",
   "execution_count": 1,
   "id": "32bd58a1-35d9-480e-9f61-a34ed6fd353b",
   "metadata": {},
   "outputs": [],
   "source": [
    "#Imports\n",
    "import pandas as pd\n",
    "import matplotlib.pyplot as plt\n",
    "from scipy.stats import linregress\n",
    "%matplotlib inline\n",
    "from pathlib import Path\n",
    "import seaborn as sns\n",
    "  "
   ]
  },
  {
   "cell_type": "code",
   "execution_count": 2,
   "id": "5b499110-fc20-4284-851e-76558af7ee2b",
   "metadata": {},
   "outputs": [
    {
     "data": {
      "text/html": [
       "<div>\n",
       "<style scoped>\n",
       "    .dataframe tbody tr th:only-of-type {\n",
       "        vertical-align: middle;\n",
       "    }\n",
       "\n",
       "    .dataframe tbody tr th {\n",
       "        vertical-align: top;\n",
       "    }\n",
       "\n",
       "    .dataframe thead th {\n",
       "        text-align: right;\n",
       "    }\n",
       "</style>\n",
       "<table border=\"1\" class=\"dataframe\">\n",
       "  <thead>\n",
       "    <tr style=\"text-align: right;\">\n",
       "      <th></th>\n",
       "      <th>Year</th>\n",
       "      <th>CSIRO Adjusted Sea Level</th>\n",
       "      <th>Lower Error Bound</th>\n",
       "      <th>Upper Error Bound</th>\n",
       "    </tr>\n",
       "  </thead>\n",
       "  <tbody>\n",
       "    <tr>\n",
       "      <th>0</th>\n",
       "      <td>1880</td>\n",
       "      <td>0.000000</td>\n",
       "      <td>-0.952756</td>\n",
       "      <td>0.952756</td>\n",
       "    </tr>\n",
       "    <tr>\n",
       "      <th>1</th>\n",
       "      <td>1881</td>\n",
       "      <td>0.220472</td>\n",
       "      <td>-0.732283</td>\n",
       "      <td>1.173228</td>\n",
       "    </tr>\n",
       "    <tr>\n",
       "      <th>2</th>\n",
       "      <td>1882</td>\n",
       "      <td>-0.440945</td>\n",
       "      <td>-1.346457</td>\n",
       "      <td>0.464567</td>\n",
       "    </tr>\n",
       "    <tr>\n",
       "      <th>3</th>\n",
       "      <td>1883</td>\n",
       "      <td>-0.232283</td>\n",
       "      <td>-1.129921</td>\n",
       "      <td>0.665354</td>\n",
       "    </tr>\n",
       "    <tr>\n",
       "      <th>4</th>\n",
       "      <td>1884</td>\n",
       "      <td>0.590551</td>\n",
       "      <td>-0.283465</td>\n",
       "      <td>1.464567</td>\n",
       "    </tr>\n",
       "  </tbody>\n",
       "</table>\n",
       "</div>"
      ],
      "text/plain": [
       "   Year  CSIRO Adjusted Sea Level  Lower Error Bound  Upper Error Bound\n",
       "0  1880                  0.000000          -0.952756           0.952756\n",
       "1  1881                  0.220472          -0.732283           1.173228\n",
       "2  1882                 -0.440945          -1.346457           0.464567\n",
       "3  1883                 -0.232283          -1.129921           0.665354\n",
       "4  1884                  0.590551          -0.283465           1.464567"
      ]
     },
     "execution_count": 2,
     "metadata": {},
     "output_type": "execute_result"
    }
   ],
   "source": [
    "# CSV files:\n",
    "file_path = Path(\"Resources/epa-sea-level.csv\")\n",
    "\n",
    "# Create DataFrames\n",
    "df = pd.read_csv(file_path)\n",
    "df.head()"
   ]
  },
  {
   "cell_type": "code",
   "execution_count": 1,
   "id": "1fb48b1a-7d39-4af0-aaa1-dcfae63338a3",
   "metadata": {},
   "outputs": [],
   "source": [
    "#Scatter plot of Dataset\n",
    "df.plot.scatter(x='Year', y='CSIRO Adjusted Sea Level')\n"
   ]
  },
  {
   "cell_type": "code",
   "execution_count": null,
   "id": "0f3015e6-bd9f-45ee-9d23-47141fe833cb",
   "metadata": {},
   "outputs": [],
   "source": [
    "# sns.set_style('white')\n",
    "sns.set_style('ticks')\n",
    "sns.regplot(x='Year', y='CSIRO Adjusted Sea Level',color='g',data=df);"
   ]
  },
  {
   "cell_type": "code",
   "execution_count": null,
   "id": "b522cc40-236f-4711-af74-d0cf9444d055",
   "metadata": {},
   "outputs": [],
   "source": [
    "# Create first line of best fit\n",
    "x=df['Year'], \n",
    "y=df['CSIRO Adjusted Sea Level']\n",
    "res = linregress(x,y)\n",
    "\n",
    "x_pred = pd.Series([i for i in range (1880,2051)])\n",
    "y_pred = res.slope*x_pred + res.intercept\n",
    "print(res)\n"
   ]
  },
  {
   "cell_type": "code",
   "execution_count": null,
   "id": "a3d09041-9544-4356-90cf-5bb1662beb8b",
   "metadata": {},
   "outputs": [],
   "source": [
    "#Plot modeling predictions\n",
    "plt.plot(x_pred, y_pred,color='r')\n",
    "plt.xlabel('Year')\n",
    "plt.ylabel('CSIRO Adjusted Sea Level')\n",
    "plt.title('Sea Level Predictions to 2050' );\n"
   ]
  },
  {
   "cell_type": "code",
   "execution_count": null,
   "id": "cd5eaf4a-d544-47d0-8624-74178158b571",
   "metadata": {},
   "outputs": [],
   "source": [
    "# Create second line of best fit\n",
    "new_df = df.loc[df['Year']>=2000]\n",
    "new_df.head()\n"
   ]
  },
  {
   "cell_type": "code",
   "execution_count": null,
   "id": "7f2d09b0-e053-455a-b115-d04edae4746a",
   "metadata": {},
   "outputs": [],
   "source": [
    "sns.set_style('ticks')\n",
    "sns.regplot(x='Year', y='CSIRO Adjusted Sea Level',color='b',data=new_df);"
   ]
  },
  {
   "cell_type": "code",
   "execution_count": null,
   "id": "d10a019e-7ec5-4f51-970d-88cc1492576d",
   "metadata": {},
   "outputs": [],
   "source": [
    "# Sea level increase from 2000 to 2050\n",
    "new_x = new_df['Year']\n",
    "new_y = new_df['CSIRO Adjusted Sea Level']\n",
    "res_2 = linregress(new_x, new_y)\n",
    "x_pred2 = pd.Series([i for i in range(2000,2051)])\n",
    "y_pred2 = res_2.slope*x_pred2 + res_2.intercept\n",
    "plt.xlabel('Year')\n",
    "plt.ylabel('CSIRO Adjusted Sea Level')\n",
    "plt.title('Rapid Increase in Water Levels beyond 2000')\n",
    "plt.plot(x_pred2, y_pred2, 'green');"
   ]
  },
  {
   "cell_type": "code",
   "execution_count": null,
   "id": "83dfdc4d-e5a3-4abc-b8bd-9af4bd04ff91",
   "metadata": {},
   "outputs": [],
   "source": [
    "# Increase in sea level occuring faster than anticipated beyond 2000.\n",
    "plt.plot(x_pred, y_pred,x_pred2, y_pred2);\n",
    "plt.xlabel('Year')\n",
    "plt.ylabel('CSIRO Adjusted Sea Level')\n",
    "plt.title('Sea Levels Increases more than predicted from 2000')\n",
    "#plt.figsize(30,30)"
   ]
  },
  {
   "cell_type": "markdown",
   "id": "4003d88f-721e-4429-b0d9-b3bd714a9ead",
   "metadata": {},
   "source": [
    "The LinRegressor sea level predictor model shows an expected 26-77 cm in sea levels to 2050 as the planet warms to 1.5 degrees celcius above pre-industrial levels. Should these levels be realized, it is expected that more than 1/3 of the earth's land mass will be underwater by 2050. The warming of the earth not only increases sea levels but also reduces the sea ice levels significantly as previously mention and the important role that the sea ice plays in regulating the planet's climate by reflecting sunlight and heat back to space through a process called .... The ice-albedo feedback which is a positive feedback climate process where a change in the area of ice caps, glaciers and sea ice alters the albedo and surface temperature of the planet.\n",
    "\n",
    "The model predicts that this trend will continue for the forseable future. Simple put, when the ice melts, the sea level rises. As seas warm and ice melts, the earth's oceans have risen steadily. The second slope above shows an even more alarming statistic which says, sea level rise is accelerating much more than initially predicted. to put it simply, for the past 25 years, sea level is not only rising, but the rate of that rise is getting faster. As we saw from the heat map, increased ice melting in Greenland and Antactica is primarily responsible for the acceleration. The the predictions are realised and this accelration continues, global sea levels could be 26 inches higher by 2100."
   ]
  }
 ],
 "metadata": {
  "kernelspec": {
   "display_name": "Python [conda env:pyvizenv] *",
   "language": "python",
   "name": "conda-env-pyvizenv-py"
  },
  "language_info": {
   "codemirror_mode": {
    "name": "ipython",
    "version": 3
   },
   "file_extension": ".py",
   "mimetype": "text/x-python",
   "name": "python",
   "nbconvert_exporter": "python",
   "pygments_lexer": "ipython3",
   "version": "3.7.11"
  }
 },
 "nbformat": 4,
 "nbformat_minor": 5
}
