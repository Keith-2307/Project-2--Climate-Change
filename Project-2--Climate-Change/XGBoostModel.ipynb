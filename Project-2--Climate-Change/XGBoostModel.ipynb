{
 "cells": [
  {
   "cell_type": "code",
   "execution_count": 1,
   "id": "9aef2b9a-d54a-4bb1-8a92-5464ffcacfaa",
   "metadata": {},
   "outputs": [],
   "source": [
    "#Imports\n",
    "import csv\n",
    "import pandas as pd\n",
    "import numpy as np\n",
    "from pathlib import Path\n",
    "from numpy import loadtxt\n",
    "import xgboost as xgb\n",
    "import graphviz\n",
    "from xgboost import XGBClassifier\n",
    "from xgboost import XGBRegressor\n",
    "from sklearn.metrics import mean_squared_error\n",
    "from sklearn.model_selection import train_test_split\n",
    "from sklearn.metrics import accuracy_score\n",
    "import matplotlib.pyplot as plt"
   ]
  },
  {
   "cell_type": "code",
   "execution_count": 2,
   "id": "342bc759-232f-4a11-a279-b1562cf94728",
   "metadata": {},
   "outputs": [
    {
     "data": {
      "text/html": [
       "<div>\n",
       "<style scoped>\n",
       "    .dataframe tbody tr th:only-of-type {\n",
       "        vertical-align: middle;\n",
       "    }\n",
       "\n",
       "    .dataframe tbody tr th {\n",
       "        vertical-align: top;\n",
       "    }\n",
       "\n",
       "    .dataframe thead th {\n",
       "        text-align: right;\n",
       "    }\n",
       "</style>\n",
       "<table border=\"1\" class=\"dataframe\">\n",
       "  <thead>\n",
       "    <tr style=\"text-align: right;\">\n",
       "      <th></th>\n",
       "      <th>Year</th>\n",
       "      <th>CSIRO Adjusted Sea Level</th>\n",
       "      <th>Lower Error Bound</th>\n",
       "      <th>Upper Error Bound</th>\n",
       "    </tr>\n",
       "  </thead>\n",
       "  <tbody>\n",
       "    <tr>\n",
       "      <th>0</th>\n",
       "      <td>1880</td>\n",
       "      <td>0.000000</td>\n",
       "      <td>-0.952756</td>\n",
       "      <td>0.952756</td>\n",
       "    </tr>\n",
       "    <tr>\n",
       "      <th>1</th>\n",
       "      <td>1881</td>\n",
       "      <td>0.220472</td>\n",
       "      <td>-0.732283</td>\n",
       "      <td>1.173228</td>\n",
       "    </tr>\n",
       "    <tr>\n",
       "      <th>2</th>\n",
       "      <td>1882</td>\n",
       "      <td>-0.440945</td>\n",
       "      <td>-1.346457</td>\n",
       "      <td>0.464567</td>\n",
       "    </tr>\n",
       "    <tr>\n",
       "      <th>3</th>\n",
       "      <td>1883</td>\n",
       "      <td>-0.232283</td>\n",
       "      <td>-1.129921</td>\n",
       "      <td>0.665354</td>\n",
       "    </tr>\n",
       "    <tr>\n",
       "      <th>4</th>\n",
       "      <td>1884</td>\n",
       "      <td>0.590551</td>\n",
       "      <td>-0.283465</td>\n",
       "      <td>1.464567</td>\n",
       "    </tr>\n",
       "  </tbody>\n",
       "</table>\n",
       "</div>"
      ],
      "text/plain": [
       "   Year  CSIRO Adjusted Sea Level  Lower Error Bound  Upper Error Bound\n",
       "0  1880                  0.000000          -0.952756           0.952756\n",
       "1  1881                  0.220472          -0.732283           1.173228\n",
       "2  1882                 -0.440945          -1.346457           0.464567\n",
       "3  1883                 -0.232283          -1.129921           0.665354\n",
       "4  1884                  0.590551          -0.283465           1.464567"
      ]
     },
     "execution_count": 2,
     "metadata": {},
     "output_type": "execute_result"
    }
   ],
   "source": [
    "# CSV files:\n",
    "file_path = Path(\"Resources/epa-sea-level.csv\")\n",
    "\n",
    "# Create DataFrames\n",
    "XGBoost_df= pd.read_csv(file_path)#,index_col='Year')\n",
    "XGBoost_df.head()"
   ]
  },
  {
   "cell_type": "code",
   "execution_count": 3,
   "id": "0f838195-ee87-46b9-bb7b-c4a7ca4b0f0d",
   "metadata": {},
   "outputs": [
    {
     "data": {
      "text/plain": [
       "<bound method NDFrame.describe of      Year  CSIRO Adjusted Sea Level  Lower Error Bound  Upper Error Bound\n",
       "0    1880                  0.000000          -0.952756           0.952756\n",
       "1    1881                  0.220472          -0.732283           1.173228\n",
       "2    1882                 -0.440945          -1.346457           0.464567\n",
       "3    1883                 -0.232283          -1.129921           0.665354\n",
       "4    1884                  0.590551          -0.283465           1.464567\n",
       "5    1885                  0.531496          -0.330709           1.393701\n",
       "6    1886                  0.437008          -0.381890           1.255906\n",
       "7    1887                  0.216535          -0.602362           1.035433\n",
       "8    1888                  0.299213          -0.519685           1.118110\n",
       "9    1889                  0.362205          -0.456693           1.181102\n",
       "10   1890                  0.440945          -0.374016           1.255906\n",
       "11   1891                  0.374016          -0.440945           1.188976\n",
       "12   1892                  0.500000          -0.314961           1.314961\n",
       "13   1893                  0.685039          -0.114173           1.484252\n",
       "14   1894                  0.303150          -0.547244           1.153543\n",
       "15   1895                  0.767717          -0.082677           1.618110\n",
       "16   1896                  0.468504          -0.366142           1.303150\n",
       "17   1897                  0.673228          -0.145669           1.492126\n",
       "18   1898                  1.043307           0.267717           1.818898\n",
       "19   1899                  1.338583           0.574803           2.102362\n",
       "20   1900                  1.125984           0.405512           1.846457\n",
       "21   1901                  1.110236           0.417323           1.803150\n",
       "22   1902                  1.291339           0.610236           1.972441\n",
       "23   1903                  1.606299           0.937008           2.275591\n",
       "24   1904                  1.200787           0.535433           1.866142\n",
       "25   1905                  0.984252           0.377953           1.590551\n",
       "26   1906                  1.251969           0.673228           1.830709\n",
       "27   1907                  1.196850           0.610236           1.783465\n",
       "28   1908                  1.098425           0.527559           1.669291\n",
       "29   1909                  1.275591           0.700787           1.850394\n",
       "..    ...                       ...                ...                ...\n",
       "104  1984                  6.153543           5.905512           6.401575\n",
       "105  1985                  5.748031           5.500000           5.996063\n",
       "106  1986                  5.771654           5.523622           6.019685\n",
       "107  1987                  5.795276           5.551181           6.039370\n",
       "108  1988                  5.980315           5.732283           6.228346\n",
       "109  1989                  6.157480           5.905512           6.409449\n",
       "110  1990                  6.232283           5.972441           6.492126\n",
       "111  1991                  6.334646           6.074803           6.594488\n",
       "112  1992                  6.358268           6.094488           6.622047\n",
       "113  1993                  6.291339           6.027559           6.555118\n",
       "114  1994                  6.500000           6.236220           6.763780\n",
       "115  1995                  6.618110           6.354331           6.881890\n",
       "116  1996                  6.787402           6.523622           7.051181\n",
       "117  1997                  7.066929           6.803150           7.330709\n",
       "118  1998                  6.665354           6.393701           6.937008\n",
       "119  1999                  7.011811           6.736220           7.287402\n",
       "120  2000                  7.062992           6.791339           7.334646\n",
       "121  2001                  7.287402           7.019685           7.555118\n",
       "122  2002                  7.381890           7.110236           7.653543\n",
       "123  2003                  7.759843           7.484252           8.035433\n",
       "124  2004                  7.740157           7.464567           8.015748\n",
       "125  2005                  7.744094           7.472441           8.015748\n",
       "126  2006                  7.917323           7.645669           8.188976\n",
       "127  2007                  7.996063           7.712598           8.279528\n",
       "128  2008                  8.350394           8.078740           8.622047\n",
       "129  2009                  8.586614           8.311024           8.862205\n",
       "130  2010                  8.901575           8.618110           9.185039\n",
       "131  2011                  8.964567           8.661417           9.267717\n",
       "132  2012                  9.326772           8.992126           9.661417\n",
       "133  2013                  8.980315           8.622047           9.338583\n",
       "\n",
       "[134 rows x 4 columns]>"
      ]
     },
     "execution_count": 3,
     "metadata": {},
     "output_type": "execute_result"
    }
   ],
   "source": [
    "#Getting Summary Statistics\n",
    "XGBoost_df.describe"
   ]
  },
  {
   "cell_type": "code",
   "execution_count": 4,
   "id": "41030120-d408-4981-b139-e1a627a5155f",
   "metadata": {},
   "outputs": [],
   "source": [
    "# split data into X and y\n",
    "\n",
    "X = XGBoost_df.iloc[:,:-1]\n",
    "y = XGBoost_df.iloc[:,-1]"
   ]
  },
  {
   "cell_type": "code",
   "execution_count": 5,
   "id": "6e282e1b-1fd2-40f2-89c7-73bbc4651164",
   "metadata": {},
   "outputs": [],
   "source": [
    "# Converting the dataset into an optimized data structure called DMatrix\n",
    "data_dmatrix = xgb.DMatrix(X,y)"
   ]
  },
  {
   "cell_type": "code",
   "execution_count": 6,
   "id": "84a7556e-a2f1-41c8-bf6f-5f9210fbfa1a",
   "metadata": {},
   "outputs": [],
   "source": [
    "# split data into train and test sets\n",
    "seed = 123\n",
    "test_size = 0.2\n",
    "X_train, X_test, y_train, y_test = train_test_split(X, y, test_size=test_size, random_state=seed)"
   ]
  },
  {
   "cell_type": "code",
   "execution_count": 7,
   "id": "494b36f7-b65c-4d23-bb43-f7b6462eb43c",
   "metadata": {},
   "outputs": [],
   "source": [
    "# Instantiate an XGBoost regressor Object\n",
    "xg_reg = xgb. XGBRegressor()\n",
    "xg_reg = xgb.XGBRegressor(objective = 'reg:linear', colsample_bytree = 0.3, learning_rate = 0.1,\n",
    "                         max_depth = 5, alpha = 10, n_extimators = 10)"
   ]
  },
  {
   "cell_type": "markdown",
   "id": "3a4a87a7-25f9-48af-8311-f13d4c071838",
   "metadata": {},
   "source": [
    "## Train the XGBoost Model"
   ]
  },
  {
   "cell_type": "code",
   "execution_count": 8,
   "id": "e969998e-6120-492b-801c-7e61cc7d7129",
   "metadata": {},
   "outputs": [
    {
     "name": "stdout",
     "output_type": "stream",
     "text": [
      "[14:02:13] WARNING: d:\\bld\\xgboost-split_1619725139497\\work\\src\\objective\\regression_obj.cu:171: reg:linear is now deprecated in favor of reg:squarederror.\n",
      "[14:02:13] WARNING: ..\\src\\learner.cc:573: \n",
      "Parameters: { \"n_extimators\" } might not be used.\n",
      "\n",
      "  This may not be accurate due to some parameters are only used in language bindings but\n",
      "  passed down to XGBoost core.  Or some parameters are not used but slip through this\n",
      "  verification. Please open an issue if you find above cases.\n",
      "\n",
      "\n",
      "XGBRegressor(alpha=10, base_score=0.5, booster='gbtree', colsample_bylevel=1,\n",
      "             colsample_bynode=1, colsample_bytree=0.3, gamma=0, gpu_id=-1,\n",
      "             importance_type='gain', interaction_constraints='',\n",
      "             learning_rate=0.1, max_delta_step=0, max_depth=5,\n",
      "             min_child_weight=1, missing=nan, monotone_constraints='()',\n",
      "             n_estimators=100, n_extimators=10, n_jobs=4, num_parallel_tree=1,\n",
      "             objective='reg:linear', random_state=0, reg_alpha=10, reg_lambda=1,\n",
      "             scale_pos_weight=1, subsample=1, tree_method='exact',\n",
      "             validate_parameters=1, verbosity=None)\n"
     ]
    },
    {
     "name": "stderr",
     "output_type": "stream",
     "text": [
      "C:\\Users\\keith\\anaconda3\\envs\\pyvizenv\\lib\\site-packages\\xgboost\\data.py:114: UserWarning: Use subset (sliced data) of np.ndarray is not recommended because it will generate extra copies and increase memory consumption\n",
      "  \"because it will generate extra copies and increase \" +\n"
     ]
    }
   ],
   "source": [
    "# fit model on training data and predict.\n",
    "xg_reg.fit(X_train, y_train)\n",
    "preds = xg_reg.predict(X_test)\n",
    "\n",
    "# Print Model\n",
    "print(xg_reg)"
   ]
  },
  {
   "cell_type": "code",
   "execution_count": 10,
   "id": "fed163e4-6403-4e70-9746-58fbc2a7fde3",
   "metadata": {},
   "outputs": [
    {
     "name": "stdout",
     "output_type": "stream",
     "text": [
      "RMSE: 0.137343\n"
     ]
    }
   ],
   "source": [
    "# computing the rsme\n",
    "rmse = np.sqrt(mean_squared_error(y_test, preds))\n",
    "print('RMSE: %f' %(rmse))"
   ]
  },
  {
   "cell_type": "code",
   "execution_count": 11,
   "id": "d80a0114-e7d9-4157-95ae-47f37c809588",
   "metadata": {},
   "outputs": [
    {
     "name": "stdout",
     "output_type": "stream",
     "text": [
      "[14:02:14] WARNING: d:\\bld\\xgboost-split_1619725139497\\work\\src\\objective\\regression_obj.cu:171: reg:linear is now deprecated in favor of reg:squarederror.\n",
      "[14:02:14] WARNING: d:\\bld\\xgboost-split_1619725139497\\work\\src\\objective\\regression_obj.cu:171: reg:linear is now deprecated in favor of reg:squarederror.\n",
      "[14:02:14] WARNING: d:\\bld\\xgboost-split_1619725139497\\work\\src\\objective\\regression_obj.cu:171: reg:linear is now deprecated in favor of reg:squarederror.\n"
     ]
    }
   ],
   "source": [
    "#k-fold Cross Validation using XGBoost\n",
    "params = {'objective':'reg:linear','colsample_bytree': 0.3,'learning_rate':0.1,\n",
    "         'max_depth':5, 'alpha': 10}\n",
    "\n",
    "cv_results = xgb.cv(dtrain=data_dmatrix, params=params, nfold=3,\n",
    "                   num_boost_round=50, early_stopping_rounds=10, metrics = 'rmse', as_pandas=True, seed=123)"
   ]
  },
  {
   "cell_type": "code",
   "execution_count": 12,
   "id": "305a1588-0189-4ae8-b1e5-321ff7307ca5",
   "metadata": {},
   "outputs": [
    {
     "data": {
      "text/html": [
       "<div>\n",
       "<style scoped>\n",
       "    .dataframe tbody tr th:only-of-type {\n",
       "        vertical-align: middle;\n",
       "    }\n",
       "\n",
       "    .dataframe tbody tr th {\n",
       "        vertical-align: top;\n",
       "    }\n",
       "\n",
       "    .dataframe thead th {\n",
       "        text-align: right;\n",
       "    }\n",
       "</style>\n",
       "<table border=\"1\" class=\"dataframe\">\n",
       "  <thead>\n",
       "    <tr style=\"text-align: right;\">\n",
       "      <th></th>\n",
       "      <th>train-rmse-mean</th>\n",
       "      <th>train-rmse-std</th>\n",
       "      <th>test-rmse-mean</th>\n",
       "      <th>test-rmse-std</th>\n",
       "    </tr>\n",
       "  </thead>\n",
       "  <tbody>\n",
       "    <tr>\n",
       "      <th>0</th>\n",
       "      <td>3.904050</td>\n",
       "      <td>0.084362</td>\n",
       "      <td>3.900268</td>\n",
       "      <td>0.169583</td>\n",
       "    </tr>\n",
       "    <tr>\n",
       "      <th>1</th>\n",
       "      <td>3.575393</td>\n",
       "      <td>0.077065</td>\n",
       "      <td>3.575062</td>\n",
       "      <td>0.152398</td>\n",
       "    </tr>\n",
       "    <tr>\n",
       "      <th>2</th>\n",
       "      <td>3.279446</td>\n",
       "      <td>0.070842</td>\n",
       "      <td>3.281611</td>\n",
       "      <td>0.138322</td>\n",
       "    </tr>\n",
       "    <tr>\n",
       "      <th>3</th>\n",
       "      <td>3.010903</td>\n",
       "      <td>0.060890</td>\n",
       "      <td>3.009907</td>\n",
       "      <td>0.139041</td>\n",
       "    </tr>\n",
       "    <tr>\n",
       "      <th>4</th>\n",
       "      <td>2.768504</td>\n",
       "      <td>0.058042</td>\n",
       "      <td>2.768386</td>\n",
       "      <td>0.137754</td>\n",
       "    </tr>\n",
       "  </tbody>\n",
       "</table>\n",
       "</div>"
      ],
      "text/plain": [
       "   train-rmse-mean  train-rmse-std  test-rmse-mean  test-rmse-std\n",
       "0         3.904050        0.084362        3.900268       0.169583\n",
       "1         3.575393        0.077065        3.575062       0.152398\n",
       "2         3.279446        0.070842        3.281611       0.138322\n",
       "3         3.010903        0.060890        3.009907       0.139041\n",
       "4         2.768504        0.058042        2.768386       0.137754"
      ]
     },
     "execution_count": 12,
     "metadata": {},
     "output_type": "execute_result"
    }
   ],
   "source": [
    "#Results for train and test RMSE metrics\n",
    "cv_results.head()"
   ]
  },
  {
   "cell_type": "code",
   "execution_count": 13,
   "id": "af4a1256-a01b-4d04-88ec-2832097f2e6f",
   "metadata": {},
   "outputs": [
    {
     "name": "stdout",
     "output_type": "stream",
     "text": [
      "49    0.475183\n",
      "Name: test-rmse-mean, dtype: float64\n"
     ]
    }
   ],
   "source": [
    "# Extracting and printing the final boosting round metric.\n",
    "print((cv_results['test-rmse-mean']).tail(1))"
   ]
  },
  {
   "cell_type": "code",
   "execution_count": 14,
   "id": "e2b8c3bc-5e9b-4126-9505-1fed6664a7fd",
   "metadata": {},
   "outputs": [
    {
     "name": "stdout",
     "output_type": "stream",
     "text": [
      "[14:02:14] WARNING: d:\\bld\\xgboost-split_1619725139497\\work\\src\\objective\\regression_obj.cu:171: reg:linear is now deprecated in favor of reg:squarederror.\n"
     ]
    }
   ],
   "source": [
    "#Visualize Boosting Trees and Feature Importance\n",
    "xg_reg = xgb.train(params=params, dtrain=data_dmatrix, num_boost_round=10)"
   ]
  },
  {
   "cell_type": "code",
   "execution_count": 15,
   "id": "a0a9fcdb-3a32-49ee-bbcd-5c4cd602e667",
   "metadata": {},
   "outputs": [
    {
     "data": {
      "image/png": "[encoded data removed]",
      "text/plain": [
       "<Figure size 432x288 with 1 Axes>"
      ]
     },
     "metadata": {
      "needs_background": "light"
     },
     "output_type": "display_data"
    }
   ],
   "source": [
    "#Plotting the first tree \n",
    "#fig,ax=plt.subplots(figsize=(30,30))\n",
    "xgb.plot_tree(xg_reg, num_trees=0)\n",
    "plt.rcParams['figure.figsize'] = [50,10]\n",
    "plt.show()"
   ]
  },
  {
   "cell_type": "code",
   "execution_count": 16,
   "id": "2fe88d6a-454b-41eb-a32f-69c901e96719",
   "metadata": {},
   "outputs": [
    {
     "data": {
      "image/png": "[encoded data removed]",
      "text/plain": [
       "<Figure size 3600x720 with 1 Axes>"
      ]
     },
     "metadata": {
      "needs_background": "light"
     },
     "output_type": "display_data"
    }
   ],
   "source": [
    "#Visualizing the results as a bar chart\n",
    "\n",
    "xgb.plot_importance(xg_reg)\n",
    "plt.rcParams['figure.figsize'] = [50,10]\n",
    "plt.show()"
   ]
  },
  {
   "cell_type": "markdown",
   "id": "79f24e45-0b17-4fe4-90dc-35227bd0c987",
   "metadata": {},
   "source": [
    "Extreme Gradient Boosting(XGBoost) is an open-source library that provides an efficient and effective implementation of the gradient boosting algorithm. The Regression predictive modeling used here, involved predicting the increase in sea levels over a period in time (Height of Sea Levels).\n",
    "\n",
    "Some conclusions were made, with the use of the XGBoost Regression model:\n",
    "    - XGBoost is an efficient implementation of gradient boosting that can be used for regression predictive modeling.\n",
    "    - The k-fold cross-validation was used as a technique to evaluate an XGBoost regression model with efficient results.\n",
    "    - Using the model to make a prediction on new data gave noticeable results, with an RSME Value of : 0.137343\n",
    "    \n",
    "The Root Mean Square error(RSME) is the standard deviation of the residuals (prediction errors). Residuals are a measure of how far from the regression line data points are; RSME is a measure of how spread out these residuals are. In other words, it tells you how concentrated the data is around the line of best fit, hence it's commonality in climatology, forecasting, and regression analysis to verify experimental results, as was the case here.    "
   ]
  },
  {
   "cell_type": "code",
   "execution_count": null,
   "id": "7a451499-9c2c-4eff-9d90-633dbae23910",
   "metadata": {},
   "outputs": [],
   "source": []
  }
 ],
 "metadata": {
  "kernelspec": {
   "display_name": "Python [conda env:pyvizenv] *",
   "language": "python",
   "name": "conda-env-pyvizenv-py"
  },
  "language_info": {
   "codemirror_mode": {
    "name": "ipython",
    "version": 3
   },
   "file_extension": ".py",
   "mimetype": "text/x-python",
   "name": "python",
   "nbconvert_exporter": "python",
   "pygments_lexer": "ipython3",
   "version": "3.7.11"
  }
 },
 "nbformat": 4,
 "nbformat_minor": 5
}
